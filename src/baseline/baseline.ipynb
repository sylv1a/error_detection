{
 "cells": [
  {
   "cell_type": "code",
   "execution_count": null,
   "id": "486057a6",
   "metadata": {},
   "outputs": [],
   "source": [
    "from functions import (\n",
    "    CustomLLM,\n",
    "    load_prompt,\n",
    "    create_output,\n",
    "    load_data,\n",
    ")  # ,load_input if used\n",
    "from langchain_core.prompts import PromptTemplate\n",
    "from langchain_core.output_parsers import JsonOutputParser\n",
    "from langchain.output_parsers import OutputFixingParser\n",
    "from langchain.schema import OutputParserException\n",
    "import time\n",
    "import json\n",
    "import pandas as pd\n",
    "import numpy as np\n",
    "import seaborn as sns\n",
    "import matplotlib.pyplot as plt\n",
    "import scipy.stats as stats\n",
    "from sklearn.metrics import precision_score, recall_score, f1_score, accuracy_score, confusion_matrix\n",
    "\n",
    "import warnings\n",
    "warnings.filterwarnings('always')"
   ]
  },
  {
   "cell_type": "code",
   "execution_count": null,
   "id": "b5db3029",
   "metadata": {},
   "outputs": [],
   "source": [
    "config_path=\"/home/schacha@FuL.med.uni-muenchen.de/project/llm-pathology-extraction/config/config.yaml\"\n",
    "error_detection_prompt=\"/home/schacha@FuL.med.uni-muenchen.de/project/llm-pathology-extraction/src/baseline/prompts/baseline_error_prompt.txt\"\n",
    "error_detection_prompt2=\"/home/schacha@FuL.med.uni-muenchen.de/project/llm-pathology-extraction/src/errors/baseline/propmts/baseline_report.txt\""
   ]
  },
  {
   "cell_type": "code",
   "execution_count": null,
   "id": "0549141d",
   "metadata": {},
   "outputs": [],
   "source": [
    "llm = CustomLLM()\n",
    "llm.load_config(config_path)"
   ]
  },
  {
   "cell_type": "code",
   "execution_count": null,
   "id": "fb9f41e6",
   "metadata": {},
   "outputs": [],
   "source": [
    "parser = JsonOutputParser()\n",
    "fixing_parser = OutputFixingParser.from_llm(parser=parser, llm=llm)"
   ]
  },
  {
   "cell_type": "code",
   "execution_count": null,
   "id": "f99b00b1",
   "metadata": {},
   "outputs": [],
   "source": [
    "data_path = \"/home/schacha@FuL.med.uni-muenchen.de/project/llm-pathology-extraction/llm-reports/last_25/Approach2_100_more.csv\"\n",
    "data=load_data(data_path)\n",
    "data"
   ]
  },
  {
   "cell_type": "code",
   "execution_count": null,
   "id": "b2ba14ae",
   "metadata": {},
   "outputs": [],
   "source": [
    "prompt = PromptTemplate(\n",
    "    template=\"{prompt1}{input1}{prompt2}\",\n",
    "    input_variables=[\"input1\"],\n",
    "    partial_variables={\n",
    "        \"prompt1\": load_prompt(error_detection_prompt),\n",
    "        \"prompt2\": load_prompt(error_detection_prompt2)\n",
    "    },\n",
    ")"
   ]
  },
  {
   "cell_type": "code",
   "execution_count": null,
   "id": "da24bd4a",
   "metadata": {},
   "outputs": [],
   "source": [
    "for k in range(len(data)):\n",
    "    start = time.time()\n",
    "    print(k)\n",
    "    report_index=data[\"report_index\"][k]\n",
    "    input=data[\"report_text\"][k]\n",
    "    try:\n",
    "        error_prediction = []\n",
    "        error_type_predictions = []\n",
    "        error_positions = []\n",
    "        chain = prompt | llm \n",
    "        response = chain.invoke(\n",
    "           {\"input1\": input}\n",
    "        )\n",
    "        response_output=json.loads(response.split(\"<output>\")[1].split(\"</output>\")[0])\n",
    "        \n",
    "        final_data.at[k,\"report_index\"]=report_index\n",
    "        final_data.at[k,\"report\"]=input\n",
    "        final_data.at[k,\"errors\"]=response_output\n",
    "        for i in response_output:\n",
    "            error_prediction.append(i[\"error_label\"])\n",
    "            error_type_predictions.append(i[\"error_type_label\"]) \n",
    "            if i[\"findings_sentence\"]!=\"\" and i[\"impression_sentence\"]!=\"\":\n",
    "                pos=data[\"report_text\"][k].find(i[\"findings_sentence\"])\n",
    "                error_positions.append(pos)\n",
    "                pos=data[\"report_text\"][k].find(i[\"impression_sentence\"])\n",
    "                error_positions.append(pos)\n",
    "            else: \n",
    "                if i[\"findings_sentence\"]!=\"\":\n",
    "                    pos=data[\"report_text\"][k].find(i[\"findings__sentence\"])\n",
    "                    error_positions.append(pos)\n",
    "                elif i[\"impression_sentence\"]!=\"\":\n",
    "                    pos=data[\"report_text\"][k].find(i[\"impression__sentence\"])\n",
    "                    error_positions.append(pos)\n",
    "                else:\n",
    "                    error_positions.append(-1)\n",
    "        # print(error_prediction)\n",
    "        final_data.at[k,\"prediction\"]=error_prediction\n",
    "        final_data.at[k,\"error_type_prediction\"]=error_type_predictions\n",
    "        final_data.at[k,\"error_position_prediction\"]=error_positions\n",
    "        end = time.time()\n",
    "        final_data.at[k,\"total_time\"]=end-start        \n",
    "\n",
    "        print(\"successful for \"+ str(k))\n",
    "        print(\"prediction for k \"+ str(k) + \" is \"+ str(final_data[\"prediction\"][k]))\n",
    "\n",
    "    except:\n",
    "        print(\"unsuccessful for \"+ str(k))\n",
    "        final_data.at[k,\"report_index\"]=report_index\n",
    "        final_data.at[k,\"report\"]=input\n",
    "        final_data.at[k,\"prediction\"]=0\n",
    "        final_data.at[k,\"errors\"]=[]\n",
    "        final_data.at[k,\"error_type_prediction\"]=[0]\n",
    "        final_data.at[k,\"error_position_prediction\"]=[-1]   \n",
    "        final_data.loc[k,\"total_time\"]=0     \n",
    "        print(\"failed for \"+ str(k))\n",
    "        print(\"prediction for k \"+ str(k) + \" is \"+ str(final_data[\"prediction\"][k]))\n"
   ]
  },
  {
   "cell_type": "code",
   "execution_count": null,
   "id": "3877aee5",
   "metadata": {},
   "outputs": [],
   "source": [
    "final_data[\"label\"].fillna(0,inplace=True)\n",
    "final_data[\"error_type_label\"].fillna(0,inplace=True)\n",
    "final_data[\"error_pos_label\"].fillna(-1,inplace=True)\n",
    "final_data"
   ]
  },
  {
   "cell_type": "code",
   "execution_count": null,
   "id": "4231ee07",
   "metadata": {},
   "outputs": [],
   "source": [
    "final_data[\"error_type_label_specific\"]=final_data[\"error_type_label\"]\n",
    "final_data"
   ]
  }
 ],
 "metadata": {
  "language_info": {
   "name": "python"
  }
 },
 "nbformat": 4,
 "nbformat_minor": 5
}
