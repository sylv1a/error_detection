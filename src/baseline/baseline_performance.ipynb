{
 "cells": [
  {
   "cell_type": "code",
   "execution_count": null,
   "metadata": {},
   "outputs": [],
   "source": [
    "import pandas as pd\n",
    "from sklearn.metrics import precision_score, recall_score, f1_score, accuracy_score\n",
    "\n",
    "def performance_metrics(data):\n",
    "   \n",
    "    # Extract true errors and prediction errors\n",
    "    true_errors = data['label']\n",
    "    predictions = data['prediction']\n",
    "    \n",
    "    # Calculate metrics\n",
    "    accuracy = accuracy_score(true_errors, predictions)\n",
    "    precision = precision_score(true_errors, predictions, average='weighted')\n",
    "    recall = recall_score(true_errors, predictions, average='weighted')\n",
    "    f1 = f1_score(true_errors, predictions, average='weighted')\n",
    "    \n",
    "    return {\n",
    "        \"accuracy\": accuracy,\n",
    "        \"precision\": precision,\n",
    "        \"recall\": recall,\n",
    "        \"f1_score\": f1\n",
    "    }\n"
   ]
  },
  {
   "cell_type": "code",
   "execution_count": null,
   "metadata": {},
   "outputs": [],
   "source": [
    "final_data[\"prediction\"] = final_data[\"prediction\"].fillna(0)\n",
    "metrics = performance_metrics(final_data)\n",
    "print(f\"Accuracy - {metrics['accuracy']}\")\n",
    "print(f\"Precision - {metrics[\"precision\"]}\")\n",
    "print(f\"Recall - {metrics[\"recall\"]}\")\n",
    "print(f\"F1score - {metrics[\"f1_score\"]}\")"
   ]
  },
  {
   "cell_type": "code",
   "execution_count": null,
   "metadata": {},
   "outputs": [],
   "source": [
    "print(f\"Error position accuracy - {float(final_data[\"error_pos_accuracy\"].mean())}\")"
   ]
  },
  {
   "cell_type": "code",
   "execution_count": null,
   "metadata": {},
   "outputs": [],
   "source": [
    "#confusion matrix based on error type label/predictions\n",
    "# Data\n",
    "y_true = final_data[\"error_type_label\"]  # Actual labels\n",
    "y_pred = final_data[\"error_type_prediction\"]\n",
    "\n",
    "# Compute confusion matrix\n",
    "cm = confusion_matrix(y_true, y_pred)\n",
    "\n",
    "# Plot the heatmap\n",
    "plt.figure(figsize=(6,5))\n",
    "sns.heatmap(cm, annot=True, fmt=\"d\", cmap=\"Blues\", xticklabels=[\"No Error\",\"Date Error\",\"Measurement Error\",\"Contradiction Errors\"], yticklabels=[\"No Error\",\"Date Error\",\"Measurement Error\",\"Contradiction Errors\"])\n",
    "plt.xlabel(\"Predicted\")\n",
    "plt.ylabel(\"Actual\")\n",
    "plt.title(\"Confusion Matrix\")\n",
    "\n",
    "plt.figtext(0.75, 1, \"Confusion Matrix\", fontsize=10, verticalalignment=\"center\")\n",
    "\n",
    "plt.show()"
   ]
  },
  {
   "cell_type": "code",
   "execution_count": null,
   "metadata": {},
   "outputs": [],
   "source": [
    "from sklearn.metrics import classification_report, accuracy_score\n",
    "\n",
    "print(classification_report(final_data[\"error_type_label\"], final_data[\"error_type_prediction\"], digits=3))\n",
    "print(\"Accuracy:\", accuracy_score(final_data[\"error_type_label\"], final_data[\"error_type_prediction\"]))"
   ]
  }
 ],
 "metadata": {
  "kernelspec": {
   "display_name": "Python 3",
   "language": "python",
   "name": "python3"
  },
  "language_info": {
   "name": "python",
   "version": "3.10.12"
  }
 },
 "nbformat": 4,
 "nbformat_minor": 2
}
